{
 "cells": [
  {
   "cell_type": "code",
   "execution_count": 152,
   "metadata": {
    "collapsed": false
   },
   "outputs": [],
   "source": [
    "import pandas as pd\n",
    "import numpy as np\n",
    "import seaborn as sns\n",
    "import matplotlib.pyplot as plt\n",
    "from sklearn.linear_model import LinearRegression\n",
    "import os\n",
    "from scipy import misc\n",
    "\n",
    "%matplotlib inline\n",
    "sns.set_style(\"darkgrid\")"
   ]
  },
  {
   "cell_type": "code",
   "execution_count": 4,
   "metadata": {
    "collapsed": false
   },
   "outputs": [],
   "source": [
    "business = pd.read_json(\"./dataset/business.json\", lines=True)\n",
    "\n",
    "census = pd.read_csv(\"./dataset/census.csv\")\n",
    "\n",
    "z = pd.read_csv(\"./dataset/zip_to_zcta_2017.csv\", error_bad_lines=False)"
   ]
  },
  {
   "cell_type": "code",
   "execution_count": 70,
   "metadata": {
    "collapsed": false
   },
   "outputs": [],
   "source": [
    "#z = z[['ZIP_CODE', 'PO_NAME', 'STATE', 'ZCTA']]\n",
    "\n",
    "z.columns = ['zip', 'po', 'state', 'zcta']\n",
    "\n",
    "census.columns = ['zcta', 'population']"
   ]
  },
  {
   "cell_type": "code",
   "execution_count": 44,
   "metadata": {
    "collapsed": false
   },
   "outputs": [],
   "source": [
    "business.postal_code = pd.to_numeric(business.postal_code, errors='coerce')"
   ]
  },
  {
   "cell_type": "code",
   "execution_count": 16,
   "metadata": {
    "collapsed": false
   },
   "outputs": [
    {
     "data": {
      "text/html": [
       "<div>\n",
       "<style>\n",
       "    .dataframe thead tr:only-child th {\n",
       "        text-align: right;\n",
       "    }\n",
       "\n",
       "    .dataframe thead th {\n",
       "        text-align: left;\n",
       "    }\n",
       "\n",
       "    .dataframe tbody tr th {\n",
       "        vertical-align: top;\n",
       "    }\n",
       "</style>\n",
       "<table border=\"1\" class=\"dataframe\">\n",
       "  <thead>\n",
       "    <tr style=\"text-align: right;\">\n",
       "      <th></th>\n",
       "      <th>address</th>\n",
       "      <th>attributes</th>\n",
       "      <th>business_id</th>\n",
       "      <th>categories</th>\n",
       "      <th>city</th>\n",
       "      <th>hours</th>\n",
       "      <th>is_open</th>\n",
       "      <th>latitude</th>\n",
       "      <th>longitude</th>\n",
       "      <th>name</th>\n",
       "      <th>neighborhood</th>\n",
       "      <th>postal_code</th>\n",
       "      <th>review_count</th>\n",
       "      <th>stars</th>\n",
       "      <th>state</th>\n",
       "    </tr>\n",
       "  </thead>\n",
       "  <tbody>\n",
       "    <tr>\n",
       "      <th>0</th>\n",
       "      <td>691 Richmond Rd</td>\n",
       "      <td>{u'RestaurantsPriceRange2': 2, u'BusinessParki...</td>\n",
       "      <td>YDf95gJZaq05wvo7hTQbbQ</td>\n",
       "      <td>[Shopping, Shopping Centers]</td>\n",
       "      <td>Richmond Heights</td>\n",
       "      <td>{u'Monday': u'10:00-21:00', u'Tuesday': u'10:0...</td>\n",
       "      <td>1</td>\n",
       "      <td>41.541716</td>\n",
       "      <td>-81.493116</td>\n",
       "      <td>Richmond Town Square</td>\n",
       "      <td></td>\n",
       "      <td>44143</td>\n",
       "      <td>17</td>\n",
       "      <td>2.0</td>\n",
       "      <td>OH</td>\n",
       "    </tr>\n",
       "  </tbody>\n",
       "</table>\n",
       "</div>"
      ],
      "text/plain": [
       "           address                                         attributes  \\\n",
       "0  691 Richmond Rd  {u'RestaurantsPriceRange2': 2, u'BusinessParki...   \n",
       "\n",
       "              business_id                    categories              city  \\\n",
       "0  YDf95gJZaq05wvo7hTQbbQ  [Shopping, Shopping Centers]  Richmond Heights   \n",
       "\n",
       "                                               hours  is_open   latitude  \\\n",
       "0  {u'Monday': u'10:00-21:00', u'Tuesday': u'10:0...        1  41.541716   \n",
       "\n",
       "   longitude                  name neighborhood postal_code  review_count  \\\n",
       "0 -81.493116  Richmond Town Square                    44143            17   \n",
       "\n",
       "   stars state  \n",
       "0    2.0    OH  "
      ]
     },
     "execution_count": 16,
     "metadata": {},
     "output_type": "execute_result"
    }
   ],
   "source": [
    "business.head(1)"
   ]
  },
  {
   "cell_type": "code",
   "execution_count": 23,
   "metadata": {
    "collapsed": false
   },
   "outputs": [
    {
     "data": {
      "text/html": [
       "<div>\n",
       "<style>\n",
       "    .dataframe thead tr:only-child th {\n",
       "        text-align: right;\n",
       "    }\n",
       "\n",
       "    .dataframe thead th {\n",
       "        text-align: left;\n",
       "    }\n",
       "\n",
       "    .dataframe tbody tr th {\n",
       "        vertical-align: top;\n",
       "    }\n",
       "</style>\n",
       "<table border=\"1\" class=\"dataframe\">\n",
       "  <thead>\n",
       "    <tr style=\"text-align: right;\">\n",
       "      <th></th>\n",
       "      <th>ZIP_CODE</th>\n",
       "      <th>PO_NAME</th>\n",
       "      <th>STATE</th>\n",
       "      <th>ZCTA</th>\n",
       "    </tr>\n",
       "  </thead>\n",
       "  <tbody>\n",
       "    <tr>\n",
       "      <th>0</th>\n",
       "      <td>501</td>\n",
       "      <td>Holtsville</td>\n",
       "      <td>NY</td>\n",
       "      <td>11742</td>\n",
       "    </tr>\n",
       "  </tbody>\n",
       "</table>\n",
       "</div>"
      ],
      "text/plain": [
       "   ZIP_CODE     PO_NAME STATE   ZCTA\n",
       "0       501  Holtsville    NY  11742"
      ]
     },
     "execution_count": 23,
     "metadata": {},
     "output_type": "execute_result"
    }
   ],
   "source": [
    "z.head(1)"
   ]
  },
  {
   "cell_type": "code",
   "execution_count": 71,
   "metadata": {
    "collapsed": true
   },
   "outputs": [],
   "source": [
    "census_merge = census.merge(z, how = 'right', on = 'zcta')"
   ]
  },
  {
   "cell_type": "code",
   "execution_count": 72,
   "metadata": {
    "collapsed": false
   },
   "outputs": [
    {
     "data": {
      "text/html": [
       "<div>\n",
       "<style>\n",
       "    .dataframe thead tr:only-child th {\n",
       "        text-align: right;\n",
       "    }\n",
       "\n",
       "    .dataframe thead th {\n",
       "        text-align: left;\n",
       "    }\n",
       "\n",
       "    .dataframe tbody tr th {\n",
       "        vertical-align: top;\n",
       "    }\n",
       "</style>\n",
       "<table border=\"1\" class=\"dataframe\">\n",
       "  <thead>\n",
       "    <tr style=\"text-align: right;\">\n",
       "      <th></th>\n",
       "      <th>zcta</th>\n",
       "      <th>population</th>\n",
       "      <th>zip</th>\n",
       "      <th>po</th>\n",
       "      <th>state</th>\n",
       "    </tr>\n",
       "  </thead>\n",
       "  <tbody>\n",
       "    <tr>\n",
       "      <th>0</th>\n",
       "      <td>1001</td>\n",
       "      <td>16769.0</td>\n",
       "      <td>1001</td>\n",
       "      <td>Agawam</td>\n",
       "      <td>MA</td>\n",
       "    </tr>\n",
       "    <tr>\n",
       "      <th>1</th>\n",
       "      <td>1002</td>\n",
       "      <td>29049.0</td>\n",
       "      <td>1002</td>\n",
       "      <td>Amherst</td>\n",
       "      <td>MA</td>\n",
       "    </tr>\n",
       "    <tr>\n",
       "      <th>2</th>\n",
       "      <td>1002</td>\n",
       "      <td>29049.0</td>\n",
       "      <td>1004</td>\n",
       "      <td>Amherst</td>\n",
       "      <td>MA</td>\n",
       "    </tr>\n",
       "    <tr>\n",
       "      <th>3</th>\n",
       "      <td>1002</td>\n",
       "      <td>29049.0</td>\n",
       "      <td>1059</td>\n",
       "      <td>North Amherst</td>\n",
       "      <td>MA</td>\n",
       "    </tr>\n",
       "    <tr>\n",
       "      <th>4</th>\n",
       "      <td>1003</td>\n",
       "      <td>10372.0</td>\n",
       "      <td>1003</td>\n",
       "      <td>Amherst</td>\n",
       "      <td>MA</td>\n",
       "    </tr>\n",
       "  </tbody>\n",
       "</table>\n",
       "</div>"
      ],
      "text/plain": [
       "   zcta  population   zip             po state\n",
       "0  1001     16769.0  1001         Agawam    MA\n",
       "1  1002     29049.0  1002        Amherst    MA\n",
       "2  1002     29049.0  1004        Amherst    MA\n",
       "3  1002     29049.0  1059  North Amherst    MA\n",
       "4  1003     10372.0  1003        Amherst    MA"
      ]
     },
     "execution_count": 72,
     "metadata": {},
     "output_type": "execute_result"
    }
   ],
   "source": [
    "census_merge.head()"
   ]
  },
  {
   "cell_type": "code",
   "execution_count": 28,
   "metadata": {
    "collapsed": false
   },
   "outputs": [
    {
     "data": {
      "text/plain": [
       "(41297, 41184, 33092)"
      ]
     },
     "execution_count": 28,
     "metadata": {},
     "output_type": "execute_result"
    }
   ],
   "source": [
    "len(census_merge), len(z), len(census)"
   ]
  },
  {
   "cell_type": "code",
   "execution_count": 73,
   "metadata": {
    "collapsed": true
   },
   "outputs": [],
   "source": [
    "business_merge = business.merge(census_merge, left_on='postal_code', right_on='zip')"
   ]
  },
  {
   "cell_type": "code",
   "execution_count": 74,
   "metadata": {
    "collapsed": false
   },
   "outputs": [
    {
     "data": {
      "text/plain": [
       "(116769, 41297, 156639)"
      ]
     },
     "execution_count": 74,
     "metadata": {},
     "output_type": "execute_result"
    }
   ],
   "source": [
    "len(business_merge), len(census_merge), len(business)"
   ]
  },
  {
   "cell_type": "code",
   "execution_count": 126,
   "metadata": {
    "collapsed": true
   },
   "outputs": [],
   "source": [
    "def is_restaurant(x):\n",
    "    if 'Restaurants' in x['categories']: \n",
    "        return True\n",
    "    return False"
   ]
  },
  {
   "cell_type": "code",
   "execution_count": 75,
   "metadata": {
    "collapsed": false
   },
   "outputs": [],
   "source": [
    "b = business_merge[business_merge.state_x == business_merge.state_y]\n",
    "b = b[['attributes', 'categories', 'city', 'zip', 'zcta', 'review_count', 'stars','population', 'po', 'state_x']]\n",
    "\n",
    "b.stars = pd.to_numeric(b.stars)\n",
    "b.population = pd.to_numeric(b.population)"
   ]
  },
  {
   "cell_type": "code",
   "execution_count": 127,
   "metadata": {
    "collapsed": true
   },
   "outputs": [],
   "source": [
    "b['is_restaurant'] = b.apply(is_restaurant, axis=1)"
   ]
  },
  {
   "cell_type": "code",
   "execution_count": 128,
   "metadata": {
    "collapsed": false
   },
   "outputs": [
    {
     "data": {
      "text/html": [
       "<div>\n",
       "<style>\n",
       "    .dataframe thead tr:only-child th {\n",
       "        text-align: right;\n",
       "    }\n",
       "\n",
       "    .dataframe thead th {\n",
       "        text-align: left;\n",
       "    }\n",
       "\n",
       "    .dataframe tbody tr th {\n",
       "        vertical-align: top;\n",
       "    }\n",
       "</style>\n",
       "<table border=\"1\" class=\"dataframe\">\n",
       "  <thead>\n",
       "    <tr style=\"text-align: right;\">\n",
       "      <th></th>\n",
       "      <th>attributes</th>\n",
       "      <th>categories</th>\n",
       "      <th>city</th>\n",
       "      <th>zip</th>\n",
       "      <th>zcta</th>\n",
       "      <th>review_count</th>\n",
       "      <th>stars</th>\n",
       "      <th>population</th>\n",
       "      <th>po</th>\n",
       "      <th>state_x</th>\n",
       "      <th>population_bin</th>\n",
       "      <th>is_restaurant</th>\n",
       "    </tr>\n",
       "  </thead>\n",
       "  <tbody>\n",
       "    <tr>\n",
       "      <th>0</th>\n",
       "      <td>{u'RestaurantsPriceRange2': 2, u'BusinessParki...</td>\n",
       "      <td>[Shopping, Shopping Centers]</td>\n",
       "      <td>Richmond Heights</td>\n",
       "      <td>44143</td>\n",
       "      <td>44143</td>\n",
       "      <td>17</td>\n",
       "      <td>2.0</td>\n",
       "      <td>24499.0</td>\n",
       "      <td>Cleveland</td>\n",
       "      <td>OH</td>\n",
       "      <td>2</td>\n",
       "      <td>False</td>\n",
       "    </tr>\n",
       "    <tr>\n",
       "      <th>1</th>\n",
       "      <td>{u'RestaurantsReservations': False, u'Business...</td>\n",
       "      <td>[Restaurants, Pizza]</td>\n",
       "      <td>Cleveland</td>\n",
       "      <td>44143</td>\n",
       "      <td>44143</td>\n",
       "      <td>6</td>\n",
       "      <td>3.5</td>\n",
       "      <td>24499.0</td>\n",
       "      <td>Cleveland</td>\n",
       "      <td>OH</td>\n",
       "      <td>2</td>\n",
       "      <td>True</td>\n",
       "    </tr>\n",
       "    <tr>\n",
       "      <th>2</th>\n",
       "      <td>{u'BusinessParking': {u'garage': False, u'stre...</td>\n",
       "      <td>[Candy Stores, Specialty Food, Food]</td>\n",
       "      <td>Richmond Heights</td>\n",
       "      <td>44143</td>\n",
       "      <td>44143</td>\n",
       "      <td>11</td>\n",
       "      <td>4.0</td>\n",
       "      <td>24499.0</td>\n",
       "      <td>Cleveland</td>\n",
       "      <td>OH</td>\n",
       "      <td>2</td>\n",
       "      <td>False</td>\n",
       "    </tr>\n",
       "    <tr>\n",
       "      <th>3</th>\n",
       "      <td>{u'BusinessAcceptsCreditCards': True, u'Restau...</td>\n",
       "      <td>[Women's Clothing, Department Stores, Shopping...</td>\n",
       "      <td>Highland Heights</td>\n",
       "      <td>44143</td>\n",
       "      <td>44143</td>\n",
       "      <td>11</td>\n",
       "      <td>2.5</td>\n",
       "      <td>24499.0</td>\n",
       "      <td>Cleveland</td>\n",
       "      <td>OH</td>\n",
       "      <td>2</td>\n",
       "      <td>False</td>\n",
       "    </tr>\n",
       "    <tr>\n",
       "      <th>4</th>\n",
       "      <td>{u'GoodForMeal': {u'dessert': False, u'latenig...</td>\n",
       "      <td>[Restaurants, American (Traditional), Bars, Ni...</td>\n",
       "      <td>Cleveland</td>\n",
       "      <td>44143</td>\n",
       "      <td>44143</td>\n",
       "      <td>4</td>\n",
       "      <td>4.0</td>\n",
       "      <td>24499.0</td>\n",
       "      <td>Cleveland</td>\n",
       "      <td>OH</td>\n",
       "      <td>2</td>\n",
       "      <td>True</td>\n",
       "    </tr>\n",
       "  </tbody>\n",
       "</table>\n",
       "</div>"
      ],
      "text/plain": [
       "                                          attributes  \\\n",
       "0  {u'RestaurantsPriceRange2': 2, u'BusinessParki...   \n",
       "1  {u'RestaurantsReservations': False, u'Business...   \n",
       "2  {u'BusinessParking': {u'garage': False, u'stre...   \n",
       "3  {u'BusinessAcceptsCreditCards': True, u'Restau...   \n",
       "4  {u'GoodForMeal': {u'dessert': False, u'latenig...   \n",
       "\n",
       "                                          categories              city    zip  \\\n",
       "0                       [Shopping, Shopping Centers]  Richmond Heights  44143   \n",
       "1                               [Restaurants, Pizza]         Cleveland  44143   \n",
       "2               [Candy Stores, Specialty Food, Food]  Richmond Heights  44143   \n",
       "3  [Women's Clothing, Department Stores, Shopping...  Highland Heights  44143   \n",
       "4  [Restaurants, American (Traditional), Bars, Ni...         Cleveland  44143   \n",
       "\n",
       "    zcta  review_count  stars  population         po state_x  population_bin  \\\n",
       "0  44143            17    2.0     24499.0  Cleveland      OH               2   \n",
       "1  44143             6    3.5     24499.0  Cleveland      OH               2   \n",
       "2  44143            11    4.0     24499.0  Cleveland      OH               2   \n",
       "3  44143            11    2.5     24499.0  Cleveland      OH               2   \n",
       "4  44143             4    4.0     24499.0  Cleveland      OH               2   \n",
       "\n",
       "   is_restaurant  \n",
       "0          False  \n",
       "1           True  \n",
       "2          False  \n",
       "3          False  \n",
       "4           True  "
      ]
     },
     "execution_count": 128,
     "metadata": {},
     "output_type": "execute_result"
    }
   ],
   "source": [
    "b.head()"
   ]
  },
  {
   "cell_type": "code",
   "execution_count": 129,
   "metadata": {
    "collapsed": true
   },
   "outputs": [],
   "source": [
    "b = b[b.is_restaurant == True]"
   ]
  },
  {
   "cell_type": "markdown",
   "metadata": {},
   "source": [
    "### Do places w/more people have higher stars? Try to regress population and stars"
   ]
  },
  {
   "cell_type": "markdown",
   "metadata": {},
   "source": [
    "#### LR"
   ]
  },
  {
   "cell_type": "code",
   "execution_count": 130,
   "metadata": {
    "collapsed": false
   },
   "outputs": [
    {
     "data": {
      "text/plain": [
       "LinearRegression(copy_X=True, fit_intercept=True, n_jobs=1, normalize=False)"
      ]
     },
     "execution_count": 130,
     "metadata": {},
     "output_type": "execute_result"
    }
   ],
   "source": [
    "regr = LinearRegression()\n",
    "regr.fit(b.population.values.reshape(-1, 1), b.stars.values)"
   ]
  },
  {
   "cell_type": "code",
   "execution_count": 131,
   "metadata": {
    "collapsed": false
   },
   "outputs": [],
   "source": [
    "sample = b.sample(500)"
   ]
  },
  {
   "cell_type": "code",
   "execution_count": 132,
   "metadata": {
    "collapsed": false
   },
   "outputs": [
    {
     "data": {
      "text/plain": [
       "<matplotlib.collections.PathCollection at 0x11a59b350>"
      ]
     },
     "execution_count": 132,
     "metadata": {},
     "output_type": "execute_result"
    },
    {
     "data": {
      "image/png": "[encoded data removed]",
      "text/plain": [
       "<matplotlib.figure.Figure at 0x11a56bc90>"
      ]
     },
     "metadata": {},
     "output_type": "display_data"
    }
   ],
   "source": [
    "plt.scatter(sample.population, sample.stars)"
   ]
  },
  {
   "cell_type": "code",
   "execution_count": 133,
   "metadata": {
    "collapsed": false
   },
   "outputs": [
    {
     "data": {
      "text/plain": [
       "(array([ -2.17576171e-06]), 3.4985827776800664)"
      ]
     },
     "execution_count": 133,
     "metadata": {},
     "output_type": "execute_result"
    }
   ],
   "source": [
    "regr.coef_, regr.intercept_"
   ]
  },
  {
   "cell_type": "code",
   "execution_count": 134,
   "metadata": {
    "collapsed": false
   },
   "outputs": [
    {
     "data": {
      "text/plain": [
       "0.0019140143740579152"
      ]
     },
     "execution_count": 134,
     "metadata": {},
     "output_type": "execute_result"
    }
   ],
   "source": [
    "regr.score(b.population.values.reshape(-1, 1), b.stars.values)"
   ]
  },
  {
   "cell_type": "markdown",
   "metadata": {},
   "source": [
    "#### PR"
   ]
  },
  {
   "cell_type": "code",
   "execution_count": 95,
   "metadata": {
    "collapsed": true
   },
   "outputs": [],
   "source": [
    "def polyfit(x, y, degree):\n",
    "    results = {}\n",
    "\n",
    "    coeffs = np.polyfit(x, y, degree)\n",
    "\n",
    "     # Polynomial Coefficients\n",
    "    results['polynomial'] = coeffs.tolist()\n",
    "\n",
    "    # r-squared\n",
    "    p = np.poly1d(coeffs)\n",
    "    # fit values, and mean\n",
    "    yhat = p(x)                         # or [p(z) for z in x]\n",
    "    ybar = np.mean(y)          # or sum(y)/len(y)\n",
    "    ssreg = np.sum((yhat-ybar)**2)   # or sum([ (yihat - ybar)**2 for yihat in yhat])\n",
    "    sstot = np.sum((y - ybar)**2)    # or sum([ (yi - ybar)**2 for yi in y])\n",
    "    results['determination'] = ssreg / sstot\n",
    "\n",
    "    return results"
   ]
  },
  {
   "cell_type": "code",
   "execution_count": 135,
   "metadata": {
    "collapsed": false
   },
   "outputs": [
    {
     "name": "stdout",
     "output_type": "stream",
     "text": [
      "{'polynomial': [3.773120146387076e-11, -4.739045772096609e-06, 3.532372238338288], 'determination': 0.0021159960191661355}\n"
     ]
    }
   ],
   "source": [
    "print polyfit(b.population, b.stars, 2)"
   ]
  },
  {
   "cell_type": "code",
   "execution_count": 117,
   "metadata": {
    "collapsed": false
   },
   "outputs": [
    {
     "data": {
      "text/plain": [
       "(array([  7.38000000e+03,   8.90000000e+03,   1.85940000e+04,\n",
       "          1.64590000e+04,   3.04760000e+04,   1.71620000e+04,\n",
       "          8.11600000e+03,   6.18500000e+03,   1.80800000e+03,\n",
       "          1.00000000e+00]),\n",
       " array([     0. ,   8464.1,  16928.2,  25392.3,  33856.4,  42320.5,\n",
       "         50784.6,  59248.7,  67712.8,  76176.9,  84641. ]),\n",
       " <a list of 10 Patch objects>)"
      ]
     },
     "execution_count": 117,
     "metadata": {},
     "output_type": "execute_result"
    },
    {
     "data": {
      "image/png": "[encoded data removed]",
      "text/plain": [
       "<matplotlib.figure.Figure at 0x1154c3c90>"
      ]
     },
     "metadata": {},
     "output_type": "display_data"
    }
   ],
   "source": [
    "plt.hist(b.population)"
   ]
  },
  {
   "cell_type": "code",
   "execution_count": 136,
   "metadata": {
    "collapsed": false
   },
   "outputs": [],
   "source": [
    "b[\"population_bin\"] = pd.cut(b.population, bins=10, labels=False)"
   ]
  },
  {
   "cell_type": "code",
   "execution_count": 137,
   "metadata": {
    "collapsed": false
   },
   "outputs": [
    {
     "data": {
      "text/html": [
       "<div>\n",
       "<style>\n",
       "    .dataframe thead tr:only-child th {\n",
       "        text-align: right;\n",
       "    }\n",
       "\n",
       "    .dataframe thead th {\n",
       "        text-align: left;\n",
       "    }\n",
       "\n",
       "    .dataframe tbody tr th {\n",
       "        vertical-align: top;\n",
       "    }\n",
       "</style>\n",
       "<table border=\"1\" class=\"dataframe\">\n",
       "  <thead>\n",
       "    <tr style=\"text-align: right;\">\n",
       "      <th></th>\n",
       "      <th>attributes</th>\n",
       "      <th>categories</th>\n",
       "      <th>city</th>\n",
       "      <th>zip</th>\n",
       "      <th>zcta</th>\n",
       "      <th>review_count</th>\n",
       "      <th>stars</th>\n",
       "      <th>population</th>\n",
       "      <th>po</th>\n",
       "      <th>state_x</th>\n",
       "      <th>population_bin</th>\n",
       "      <th>is_restaurant</th>\n",
       "    </tr>\n",
       "  </thead>\n",
       "  <tbody>\n",
       "    <tr>\n",
       "      <th>1</th>\n",
       "      <td>{u'RestaurantsReservations': False, u'Business...</td>\n",
       "      <td>[Restaurants, Pizza]</td>\n",
       "      <td>Cleveland</td>\n",
       "      <td>44143</td>\n",
       "      <td>44143</td>\n",
       "      <td>6</td>\n",
       "      <td>3.5</td>\n",
       "      <td>24499.0</td>\n",
       "      <td>Cleveland</td>\n",
       "      <td>OH</td>\n",
       "      <td>3</td>\n",
       "      <td>True</td>\n",
       "    </tr>\n",
       "    <tr>\n",
       "      <th>4</th>\n",
       "      <td>{u'GoodForMeal': {u'dessert': False, u'latenig...</td>\n",
       "      <td>[Restaurants, American (Traditional), Bars, Ni...</td>\n",
       "      <td>Cleveland</td>\n",
       "      <td>44143</td>\n",
       "      <td>44143</td>\n",
       "      <td>4</td>\n",
       "      <td>4.0</td>\n",
       "      <td>24499.0</td>\n",
       "      <td>Cleveland</td>\n",
       "      <td>OH</td>\n",
       "      <td>3</td>\n",
       "      <td>True</td>\n",
       "    </tr>\n",
       "    <tr>\n",
       "      <th>5</th>\n",
       "      <td>{u'GoodForMeal': {u'dessert': False, u'latenig...</td>\n",
       "      <td>[Restaurants, Event Planning &amp; Services, Pizza...</td>\n",
       "      <td>Cleveland</td>\n",
       "      <td>44143</td>\n",
       "      <td>44143</td>\n",
       "      <td>8</td>\n",
       "      <td>3.5</td>\n",
       "      <td>24499.0</td>\n",
       "      <td>Cleveland</td>\n",
       "      <td>OH</td>\n",
       "      <td>3</td>\n",
       "      <td>True</td>\n",
       "    </tr>\n",
       "    <tr>\n",
       "      <th>8</th>\n",
       "      <td>{u'GoodForMeal': {u'dessert': False, u'latenig...</td>\n",
       "      <td>[Restaurants, Pizza]</td>\n",
       "      <td>Highland Heights</td>\n",
       "      <td>44143</td>\n",
       "      <td>44143</td>\n",
       "      <td>9</td>\n",
       "      <td>4.0</td>\n",
       "      <td>24499.0</td>\n",
       "      <td>Cleveland</td>\n",
       "      <td>OH</td>\n",
       "      <td>3</td>\n",
       "      <td>True</td>\n",
       "    </tr>\n",
       "    <tr>\n",
       "      <th>12</th>\n",
       "      <td>{u'GoodForMeal': {u'dessert': False, u'latenig...</td>\n",
       "      <td>[Caterers, Restaurants, Event Planning &amp; Servi...</td>\n",
       "      <td>Highland Heights</td>\n",
       "      <td>44143</td>\n",
       "      <td>44143</td>\n",
       "      <td>12</td>\n",
       "      <td>3.0</td>\n",
       "      <td>24499.0</td>\n",
       "      <td>Cleveland</td>\n",
       "      <td>OH</td>\n",
       "      <td>3</td>\n",
       "      <td>True</td>\n",
       "    </tr>\n",
       "  </tbody>\n",
       "</table>\n",
       "</div>"
      ],
      "text/plain": [
       "                                           attributes  \\\n",
       "1   {u'RestaurantsReservations': False, u'Business...   \n",
       "4   {u'GoodForMeal': {u'dessert': False, u'latenig...   \n",
       "5   {u'GoodForMeal': {u'dessert': False, u'latenig...   \n",
       "8   {u'GoodForMeal': {u'dessert': False, u'latenig...   \n",
       "12  {u'GoodForMeal': {u'dessert': False, u'latenig...   \n",
       "\n",
       "                                           categories              city  \\\n",
       "1                                [Restaurants, Pizza]         Cleveland   \n",
       "4   [Restaurants, American (Traditional), Bars, Ni...         Cleveland   \n",
       "5   [Restaurants, Event Planning & Services, Pizza...         Cleveland   \n",
       "8                                [Restaurants, Pizza]  Highland Heights   \n",
       "12  [Caterers, Restaurants, Event Planning & Servi...  Highland Heights   \n",
       "\n",
       "      zip   zcta  review_count  stars  population         po state_x  \\\n",
       "1   44143  44143             6    3.5     24499.0  Cleveland      OH   \n",
       "4   44143  44143             4    4.0     24499.0  Cleveland      OH   \n",
       "5   44143  44143             8    3.5     24499.0  Cleveland      OH   \n",
       "8   44143  44143             9    4.0     24499.0  Cleveland      OH   \n",
       "12  44143  44143            12    3.0     24499.0  Cleveland      OH   \n",
       "\n",
       "    population_bin  is_restaurant  \n",
       "1                3           True  \n",
       "4                3           True  \n",
       "5                3           True  \n",
       "8                3           True  \n",
       "12               3           True  "
      ]
     },
     "execution_count": 137,
     "metadata": {},
     "output_type": "execute_result"
    }
   ],
   "source": [
    "b.head()"
   ]
  },
  {
   "cell_type": "code",
   "execution_count": 138,
   "metadata": {
    "collapsed": false
   },
   "outputs": [
    {
     "data": {
      "text/plain": [
       "(array([  3.05600000e+04,   2.81000000e+02,   3.90000000e+01,\n",
       "          1.40000000e+01,   6.00000000e+00,   5.00000000e+00,\n",
       "          2.00000000e+00,   1.00000000e+00,   1.00000000e+00,\n",
       "          2.00000000e+00]),\n",
       " array([  3.00000000e+00,   7.00600000e+02,   1.39820000e+03,\n",
       "          2.09580000e+03,   2.79340000e+03,   3.49100000e+03,\n",
       "          4.18860000e+03,   4.88620000e+03,   5.58380000e+03,\n",
       "          6.28140000e+03,   6.97900000e+03]),\n",
       " <a list of 10 Patch objects>)"
      ]
     },
     "execution_count": 138,
     "metadata": {},
     "output_type": "execute_result"
    },
    {
     "data": {
      "image/png": "[encoded data removed]",
      "text/plain": [
       "<matplotlib.figure.Figure at 0x11a58f690>"
      ]
     },
     "metadata": {},
     "output_type": "display_data"
    }
   ],
   "source": [
    "plt.hist(b.review_count)"
   ]
  },
  {
   "cell_type": "code",
   "execution_count": 139,
   "metadata": {
    "collapsed": true
   },
   "outputs": [],
   "source": [
    "d = {'stars': ['mean', 'std', 'count']}\n",
    "avg_star_per_pop_bin = b[['stars', 'population_bin']].groupby('population_bin').agg(d)"
   ]
  },
  {
   "cell_type": "code",
   "execution_count": 163,
   "metadata": {
    "collapsed": false
   },
   "outputs": [
    {
     "data": {
      "text/html": [
       "<div>\n",
       "<style>\n",
       "    .dataframe thead tr:only-child th {\n",
       "        text-align: right;\n",
       "    }\n",
       "\n",
       "    .dataframe thead th {\n",
       "        text-align: left;\n",
       "    }\n",
       "\n",
       "    .dataframe tbody tr th {\n",
       "        vertical-align: top;\n",
       "    }\n",
       "</style>\n",
       "<table border=\"1\" class=\"dataframe\">\n",
       "  <thead>\n",
       "    <tr>\n",
       "      <th></th>\n",
       "      <th>level_0</th>\n",
       "      <th>index</th>\n",
       "      <th>population_bin</th>\n",
       "      <th colspan=\"3\" halign=\"left\">stars</th>\n",
       "      <th>se</th>\n",
       "    </tr>\n",
       "    <tr>\n",
       "      <th></th>\n",
       "      <th></th>\n",
       "      <th></th>\n",
       "      <th></th>\n",
       "      <th>mean</th>\n",
       "      <th>std</th>\n",
       "      <th>count</th>\n",
       "      <th></th>\n",
       "    </tr>\n",
       "  </thead>\n",
       "  <tbody>\n",
       "    <tr>\n",
       "      <th>0</th>\n",
       "      <td>0</td>\n",
       "      <td>0</td>\n",
       "      <td>0</td>\n",
       "      <td>3.541244</td>\n",
       "      <td>0.776857</td>\n",
       "      <td>1479</td>\n",
       "      <td>0.020200</td>\n",
       "    </tr>\n",
       "    <tr>\n",
       "      <th>1</th>\n",
       "      <td>1</td>\n",
       "      <td>1</td>\n",
       "      <td>1</td>\n",
       "      <td>3.476236</td>\n",
       "      <td>0.752710</td>\n",
       "      <td>3114</td>\n",
       "      <td>0.013489</td>\n",
       "    </tr>\n",
       "    <tr>\n",
       "      <th>2</th>\n",
       "      <td>2</td>\n",
       "      <td>2</td>\n",
       "      <td>2</td>\n",
       "      <td>3.475346</td>\n",
       "      <td>0.783288</td>\n",
       "      <td>3468</td>\n",
       "      <td>0.013301</td>\n",
       "    </tr>\n",
       "    <tr>\n",
       "      <th>3</th>\n",
       "      <td>3</td>\n",
       "      <td>3</td>\n",
       "      <td>3</td>\n",
       "      <td>3.444246</td>\n",
       "      <td>0.783902</td>\n",
       "      <td>4197</td>\n",
       "      <td>0.012100</td>\n",
       "    </tr>\n",
       "    <tr>\n",
       "      <th>4</th>\n",
       "      <td>4</td>\n",
       "      <td>4</td>\n",
       "      <td>4</td>\n",
       "      <td>3.391999</td>\n",
       "      <td>0.809432</td>\n",
       "      <td>4162</td>\n",
       "      <td>0.012547</td>\n",
       "    </tr>\n",
       "    <tr>\n",
       "      <th>5</th>\n",
       "      <td>5</td>\n",
       "      <td>5</td>\n",
       "      <td>5</td>\n",
       "      <td>3.394353</td>\n",
       "      <td>0.810135</td>\n",
       "      <td>6233</td>\n",
       "      <td>0.010261</td>\n",
       "    </tr>\n",
       "    <tr>\n",
       "      <th>6</th>\n",
       "      <td>6</td>\n",
       "      <td>6</td>\n",
       "      <td>6</td>\n",
       "      <td>3.390925</td>\n",
       "      <td>0.812882</td>\n",
       "      <td>3328</td>\n",
       "      <td>0.014091</td>\n",
       "    </tr>\n",
       "    <tr>\n",
       "      <th>7</th>\n",
       "      <td>7</td>\n",
       "      <td>7</td>\n",
       "      <td>7</td>\n",
       "      <td>3.429084</td>\n",
       "      <td>0.818800</td>\n",
       "      <td>2369</td>\n",
       "      <td>0.016823</td>\n",
       "    </tr>\n",
       "    <tr>\n",
       "      <th>8</th>\n",
       "      <td>8</td>\n",
       "      <td>8</td>\n",
       "      <td>8</td>\n",
       "      <td>3.389470</td>\n",
       "      <td>0.763625</td>\n",
       "      <td>1624</td>\n",
       "      <td>0.018949</td>\n",
       "    </tr>\n",
       "    <tr>\n",
       "      <th>9</th>\n",
       "      <td>9</td>\n",
       "      <td>9</td>\n",
       "      <td>9</td>\n",
       "      <td>3.385806</td>\n",
       "      <td>0.862181</td>\n",
       "      <td>937</td>\n",
       "      <td>0.028166</td>\n",
       "    </tr>\n",
       "  </tbody>\n",
       "</table>\n",
       "</div>"
      ],
      "text/plain": [
       "  level_0 index population_bin     stars                        se\n",
       "                                    mean       std count          \n",
       "0       0     0              0  3.541244  0.776857  1479  0.020200\n",
       "1       1     1              1  3.476236  0.752710  3114  0.013489\n",
       "2       2     2              2  3.475346  0.783288  3468  0.013301\n",
       "3       3     3              3  3.444246  0.783902  4197  0.012100\n",
       "4       4     4              4  3.391999  0.809432  4162  0.012547\n",
       "5       5     5              5  3.394353  0.810135  6233  0.010261\n",
       "6       6     6              6  3.390925  0.812882  3328  0.014091\n",
       "7       7     7              7  3.429084  0.818800  2369  0.016823\n",
       "8       8     8              8  3.389470  0.763625  1624  0.018949\n",
       "9       9     9              9  3.385806  0.862181   937  0.028166"
      ]
     },
     "execution_count": 163,
     "metadata": {},
     "output_type": "execute_result"
    }
   ],
   "source": [
    "avg_star_per_pop_bin"
   ]
  },
  {
   "cell_type": "code",
   "execution_count": 162,
   "metadata": {
    "collapsed": false
   },
   "outputs": [],
   "source": [
    "avg_star_per_pop_bin = avg_star_per_pop_bin.reset_index()\n",
    "avg_star_per_pop_bin['se'] = avg_star_per_pop_bin['stars']['std'] * 1.0 / np.sqrt(avg_star_per_pop_bin['stars']['count'])"
   ]
  },
  {
   "cell_type": "code",
   "execution_count": 170,
   "metadata": {
    "collapsed": false
   },
   "outputs": [
    {
     "data": {
      "text/plain": [
       "Text(0.5,1,u'Average Stars per Population Bin')"
      ]
     },
     "execution_count": 170,
     "metadata": {},
     "output_type": "execute_result"
    },
    {
     "data": {
      "image/png": "[encoded data removed]",
      "text/plain": [
       "<matplotlib.figure.Figure at 0x1b9d07650>"
      ]
     },
     "metadata": {},
     "output_type": "display_data"
    }
   ],
   "source": [
    "plt.plot(avg_star_per_pop_bin['stars']['mean'])\n",
    "x = avg_star_per_pop_bin['population_bin']\n",
    "y = avg_star_per_pop_bin['stars']['mean']\n",
    "error = avg_star_per_pop_bin['se']\n",
    "plt.fill_between(x, y-error, y+error, alpha=0.5)\n",
    "\n",
    "plt.title(\"Average Stars per Population Bin\")"
   ]
  },
  {
   "cell_type": "markdown",
   "metadata": {},
   "source": [
    "### Reviewer demographics"
   ]
  },
  {
   "cell_type": "code",
   "execution_count": 156,
   "metadata": {
    "collapsed": false
   },
   "outputs": [],
   "source": [
    "review = pd.read_json(\"./dataset/review.json\", lines=True)"
   ]
  },
  {
   "cell_type": "code",
   "execution_count": 158,
   "metadata": {
    "collapsed": false
   },
   "outputs": [
    {
     "data": {
      "text/plain": [
       "Index([u'average_stars', u'compliment_cool', u'compliment_cute',\n",
       "       u'compliment_funny', u'compliment_hot', u'compliment_list',\n",
       "       u'compliment_more', u'compliment_note', u'compliment_photos',\n",
       "       u'compliment_plain', u'compliment_profile', u'compliment_writer',\n",
       "       u'cool', u'elite', u'fans', u'friends', u'funny', u'name',\n",
       "       u'review_count', u'useful', u'user_id', u'yelping_since'],\n",
       "      dtype='object')"
      ]
     },
     "execution_count": 158,
     "metadata": {},
     "output_type": "execute_result"
    }
   ],
   "source": [
    "user.columns"
   ]
  },
  {
   "cell_type": "code",
   "execution_count": 167,
   "metadata": {
    "collapsed": true
   },
   "outputs": [],
   "source": [
    "user = user[['average_stars', 'review_count', 'fans', 'yelping_since']]"
   ]
  },
  {
   "cell_type": "code",
   "execution_count": 178,
   "metadata": {
    "collapsed": false
   },
   "outputs": [
    {
     "data": {
      "text/plain": [
       "{u'BikeParking': True,\n",
       " u'BusinessParking': {u'garage': False,\n",
       "  u'lot': True,\n",
       "  u'street': False,\n",
       "  u'valet': False,\n",
       "  u'validated': False},\n",
       " u'RestaurantsPriceRange2': 2,\n",
       " u'WheelchairAccessible': True}"
      ]
     },
     "execution_count": 178,
     "metadata": {},
     "output_type": "execute_result"
    }
   ],
   "source": [
    "business.attributes[0]"
   ]
  },
  {
   "cell_type": "markdown",
   "metadata": {},
   "source": [
    "### random"
   ]
  },
  {
   "cell_type": "code",
   "execution_count": 149,
   "metadata": {
    "collapsed": true
   },
   "outputs": [],
   "source": [
    "def resize(img, p):\n",
    "    return misc.imresize(img, p)"
   ]
  },
  {
   "cell_type": "code",
   "execution_count": 154,
   "metadata": {
    "collapsed": false
   },
   "outputs": [],
   "source": [
    "for f in os.listdir(\"./photos/\"):\n",
    "    img = misc.imread(\"./photos/\" + f)\n",
    "    img = resize(img, 0.5) #TODO replace p\n",
    "    misc.imsave('./photos2/' + f, img)"
   ]
  }
 ],
 "metadata": {
  "anaconda-cloud": {},
  "kernelspec": {
   "display_name": "Python [conda root]",
   "language": "python",
   "name": "conda-root-py"
  },
  "language_info": {
   "codemirror_mode": {
    "name": "ipython",
    "version": 2.0
   },
   "file_extension": ".py",
   "mimetype": "text/x-python",
   "name": "python",
   "nbconvert_exporter": "python",
   "pygments_lexer": "ipython2",
   "version": "2.7.12"
  }
 },
 "nbformat": 4,
 "nbformat_minor": 0
}